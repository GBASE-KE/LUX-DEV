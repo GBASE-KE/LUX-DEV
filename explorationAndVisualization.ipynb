{
 "cells": [
  {
   "cell_type": "markdown",
   "metadata": {},
   "source": [
    "# Data Exploration and visualization"
   ]
  },
  {
   "cell_type": "code",
   "execution_count": 1,
   "metadata": {},
   "outputs": [],
   "source": [
    "import pandas as pd\n",
    "import numpy as np\n",
    "import matplotlib.pyplot as plt "
   ]
  },
  {
   "cell_type": "markdown",
   "metadata": {},
   "source": [
    "## Import the data"
   ]
  },
  {
   "cell_type": "code",
   "execution_count": 2,
   "metadata": {},
   "outputs": [],
   "source": [
    "df0=pd.read_csv(\"data/Malaria Cases and Testing 2019.csv\")\n",
    "df0.drop([ 'OrgunitID', 'DataID',  'SubCounty', 'Ward',\n",
    "       'OrgUnitName', 'Data', 'GapWeight', 'OutlierWeight', 'TotalWeight','MaxModifiedZScore'], axis=1, inplace=True)"
   ]
  },
  {
   "cell_type": "code",
   "execution_count": 3,
   "metadata": {},
   "outputs": [],
   "source": [
    "df1=pd.read_csv(\"data/Malaria Cases and Testing 2020.csv\")\n",
    "df1.drop([ 'OrgunitID', 'DataID',  'SubCounty', 'Ward',\n",
    "       'OrgUnitName', 'Data', 'GapWeight', 'OutlierWeight', 'TotalWeight','MaxModifiedZScore'], axis=1, inplace=True)"
   ]
  },
  {
   "cell_type": "code",
   "execution_count": 4,
   "metadata": {},
   "outputs": [],
   "source": [
    "df2=pd.read_csv(\"data/Malaria Cases and Testing 2021.csv\")\n",
    "df2.drop([ 'OrgunitID', 'DataID',  'SubCounty', 'Ward',\n",
    "       'OrgUnitName', 'Data', 'GapWeight', 'OutlierWeight', 'TotalWeight','MaxModifiedZScore'], axis=1, inplace=True)"
   ]
  },
  {
   "cell_type": "markdown",
   "metadata": {},
   "source": [
    "## Concatenate all the dataframes to have one"
   ]
  },
  {
   "cell_type": "code",
   "execution_count": 5,
   "metadata": {},
   "outputs": [],
   "source": [
    "frames=[df0,df1,df2]\n",
    "df=pd.concat(frames,  ignore_index=True)"
   ]
  },
  {
   "cell_type": "code",
   "execution_count": 6,
   "metadata": {},
   "outputs": [
    {
     "name": "stdout",
     "output_type": "stream",
     "text": [
      "Index(['year', 'County', 'jan', 'feb', 'mar', 'apr', 'may', 'jun', 'jul',\n",
      "       'aug', 'sep', 'oct', 'nov', 'dec', 'MaxZScore'],\n",
      "      dtype='object')\n"
     ]
    }
   ],
   "source": [
    "print(df.columns)"
   ]
  },
  {
   "cell_type": "markdown",
   "metadata": {},
   "source": [
    "## Get some summary statistics"
   ]
  },
  {
   "cell_type": "markdown",
   "metadata": {},
   "source": [
    "### *Number of rows and columns*"
   ]
  },
  {
   "cell_type": "code",
   "execution_count": 7,
   "metadata": {},
   "outputs": [
    {
     "name": "stdout",
     "output_type": "stream",
     "text": [
      "(50741, 15)\n"
     ]
    }
   ],
   "source": [
    "print(df.shape)"
   ]
  },
  {
   "cell_type": "markdown",
   "metadata": {},
   "source": [
    "### *Number of counties*"
   ]
  },
  {
   "cell_type": "code",
   "execution_count": 8,
   "metadata": {},
   "outputs": [
    {
     "data": {
      "text/plain": [
       "count              50741\n",
       "unique                47\n",
       "top       Nairobi County\n",
       "freq                3415\n",
       "Name: County, dtype: object"
      ]
     },
     "execution_count": 8,
     "metadata": {},
     "output_type": "execute_result"
    }
   ],
   "source": [
    "df[\"County\"].describe()"
   ]
  },
  {
   "cell_type": "markdown",
   "metadata": {},
   "source": [
    "### *See how many rows have null values*"
   ]
  },
  {
   "cell_type": "code",
   "execution_count": 9,
   "metadata": {},
   "outputs": [
    {
     "name": "stdout",
     "output_type": "stream",
     "text": [
      "(45056, 15)\n"
     ]
    }
   ],
   "source": [
    "df1=df.isnull()\n",
    "df2=df[ df1.any(axis=1)]\n",
    "print(df2.shape)"
   ]
  },
  {
   "cell_type": "markdown",
   "metadata": {},
   "source": [
    "### *Count the nulls in each column*"
   ]
  },
  {
   "cell_type": "code",
   "execution_count": 10,
   "metadata": {},
   "outputs": [
    {
     "name": "stdout",
     "output_type": "stream",
     "text": [
      "year             0\n",
      "County           0\n",
      "jan          27699\n",
      "feb          26739\n",
      "mar          26213\n",
      "apr          27159\n",
      "may          26256\n",
      "jun          25488\n",
      "jul          25101\n",
      "aug          25327\n",
      "sep          25900\n",
      "oct          24286\n",
      "nov          22892\n",
      "dec          24415\n",
      "MaxZScore        0\n",
      "dtype: int64\n"
     ]
    }
   ],
   "source": [
    "print(df.isnull().sum())"
   ]
  },
  {
   "cell_type": "markdown",
   "metadata": {},
   "source": [
    "### *Rows with non null values*\n"
   ]
  },
  {
   "cell_type": "code",
   "execution_count": 11,
   "metadata": {},
   "outputs": [
    {
     "name": "stdout",
     "output_type": "stream",
     "text": [
      "23042\n"
     ]
    }
   ],
   "source": [
    "print(df['jan'].notnull().sum())"
   ]
  },
  {
   "cell_type": "markdown",
   "metadata": {},
   "source": [
    "### *Drop rows with null values*"
   ]
  },
  {
   "cell_type": "code",
   "execution_count": 12,
   "metadata": {},
   "outputs": [
    {
     "name": "stdout",
     "output_type": "stream",
     "text": [
      "(5685, 15)\n"
     ]
    }
   ],
   "source": [
    "df1=df.dropna(axis=0, how='any')\n",
    "print(df1.shape)"
   ]
  },
  {
   "cell_type": "markdown",
   "metadata": {},
   "source": [
    "### *Replace null values with zero*"
   ]
  },
  {
   "cell_type": "code",
   "execution_count": 13,
   "metadata": {},
   "outputs": [
    {
     "name": "stderr",
     "output_type": "stream",
     "text": [
      "/tmp/ipykernel_181320/2008611394.py:1: SettingWithCopyWarning: \n",
      "A value is trying to be set on a copy of a slice from a DataFrame\n",
      "\n",
      "See the caveats in the documentation: https://pandas.pydata.org/pandas-docs/stable/user_guide/indexing.html#returning-a-view-versus-a-copy\n",
      "  df[2:13].fillna(0, inplace=True)\n"
     ]
    }
   ],
   "source": [
    "df[2:13].fillna(0, inplace=True)"
   ]
  },
  {
   "cell_type": "markdown",
   "metadata": {},
   "source": [
    "## The data has too many values hence visualization will be difficult. Lets group by counties\n",
    "---"
   ]
  },
  {
   "cell_type": "code",
   "execution_count": 14,
   "metadata": {},
   "outputs": [],
   "source": [
    "\n",
    "df1=df.groupby([\"County\", \"year\"]).aggregate( {'jan':sum, 'feb':sum, 'mar':sum, 'apr':sum, 'may':sum, 'jun':sum, 'jul':sum,\n",
    "       'aug':sum, 'sep':sum, 'oct':sum, 'nov':sum, 'dec':sum,'MaxZScore':np.mean})\n"
   ]
  },
  {
   "cell_type": "code",
   "execution_count": 15,
   "metadata": {},
   "outputs": [
    {
     "data": {
      "text/html": [
       "<div>\n",
       "<style scoped>\n",
       "    .dataframe tbody tr th:only-of-type {\n",
       "        vertical-align: middle;\n",
       "    }\n",
       "\n",
       "    .dataframe tbody tr th {\n",
       "        vertical-align: top;\n",
       "    }\n",
       "\n",
       "    .dataframe thead th {\n",
       "        text-align: right;\n",
       "    }\n",
       "</style>\n",
       "<table border=\"1\" class=\"dataframe\">\n",
       "  <thead>\n",
       "    <tr style=\"text-align: right;\">\n",
       "      <th></th>\n",
       "      <th></th>\n",
       "      <th>jan</th>\n",
       "      <th>feb</th>\n",
       "      <th>mar</th>\n",
       "      <th>apr</th>\n",
       "      <th>may</th>\n",
       "      <th>jun</th>\n",
       "      <th>jul</th>\n",
       "      <th>aug</th>\n",
       "      <th>sep</th>\n",
       "      <th>oct</th>\n",
       "      <th>nov</th>\n",
       "      <th>dec</th>\n",
       "      <th>MaxZScore</th>\n",
       "    </tr>\n",
       "    <tr>\n",
       "      <th>County</th>\n",
       "      <th>year</th>\n",
       "      <th></th>\n",
       "      <th></th>\n",
       "      <th></th>\n",
       "      <th></th>\n",
       "      <th></th>\n",
       "      <th></th>\n",
       "      <th></th>\n",
       "      <th></th>\n",
       "      <th></th>\n",
       "      <th></th>\n",
       "      <th></th>\n",
       "      <th></th>\n",
       "      <th></th>\n",
       "    </tr>\n",
       "  </thead>\n",
       "  <tbody>\n",
       "    <tr>\n",
       "      <th rowspan=\"3\" valign=\"top\">Baringo County</th>\n",
       "      <th>2019</th>\n",
       "      <td>4832.0</td>\n",
       "      <td>3487.0</td>\n",
       "      <td>5297.0</td>\n",
       "      <td>4175.0</td>\n",
       "      <td>3923.0</td>\n",
       "      <td>4182.0</td>\n",
       "      <td>5692.0</td>\n",
       "      <td>5465.0</td>\n",
       "      <td>12063.0</td>\n",
       "      <td>7569.0</td>\n",
       "      <td>5410.0</td>\n",
       "      <td>5627.0</td>\n",
       "      <td>1.513740</td>\n",
       "    </tr>\n",
       "    <tr>\n",
       "      <th>2020</th>\n",
       "      <td>14060.0</td>\n",
       "      <td>13176.0</td>\n",
       "      <td>9760.0</td>\n",
       "      <td>4931.0</td>\n",
       "      <td>5441.0</td>\n",
       "      <td>6247.0</td>\n",
       "      <td>5809.0</td>\n",
       "      <td>6325.0</td>\n",
       "      <td>7247.0</td>\n",
       "      <td>11559.0</td>\n",
       "      <td>12099.0</td>\n",
       "      <td>5818.0</td>\n",
       "      <td>1.242131</td>\n",
       "    </tr>\n",
       "    <tr>\n",
       "      <th>2021</th>\n",
       "      <td>3961.0</td>\n",
       "      <td>8169.0</td>\n",
       "      <td>8882.0</td>\n",
       "      <td>6735.0</td>\n",
       "      <td>8688.0</td>\n",
       "      <td>9399.0</td>\n",
       "      <td>11718.0</td>\n",
       "      <td>16659.0</td>\n",
       "      <td>20697.0</td>\n",
       "      <td>14147.0</td>\n",
       "      <td>12321.0</td>\n",
       "      <td>11031.0</td>\n",
       "      <td>1.408853</td>\n",
       "    </tr>\n",
       "    <tr>\n",
       "      <th rowspan=\"2\" valign=\"top\">Bomet County</th>\n",
       "      <th>2019</th>\n",
       "      <td>855.0</td>\n",
       "      <td>831.0</td>\n",
       "      <td>979.0</td>\n",
       "      <td>759.0</td>\n",
       "      <td>782.0</td>\n",
       "      <td>584.0</td>\n",
       "      <td>702.0</td>\n",
       "      <td>665.0</td>\n",
       "      <td>517.0</td>\n",
       "      <td>539.0</td>\n",
       "      <td>506.0</td>\n",
       "      <td>577.0</td>\n",
       "      <td>1.051068</td>\n",
       "    </tr>\n",
       "    <tr>\n",
       "      <th>2020</th>\n",
       "      <td>2254.0</td>\n",
       "      <td>2392.0</td>\n",
       "      <td>1376.0</td>\n",
       "      <td>404.0</td>\n",
       "      <td>365.0</td>\n",
       "      <td>447.0</td>\n",
       "      <td>527.0</td>\n",
       "      <td>641.0</td>\n",
       "      <td>575.0</td>\n",
       "      <td>1594.0</td>\n",
       "      <td>1443.0</td>\n",
       "      <td>571.0</td>\n",
       "      <td>0.978511</td>\n",
       "    </tr>\n",
       "  </tbody>\n",
       "</table>\n",
       "</div>"
      ],
      "text/plain": [
       "                         jan      feb     mar     apr     may     jun  \\\n",
       "County         year                                                     \n",
       "Baringo County 2019   4832.0   3487.0  5297.0  4175.0  3923.0  4182.0   \n",
       "               2020  14060.0  13176.0  9760.0  4931.0  5441.0  6247.0   \n",
       "               2021   3961.0   8169.0  8882.0  6735.0  8688.0  9399.0   \n",
       "Bomet County   2019    855.0    831.0   979.0   759.0   782.0   584.0   \n",
       "               2020   2254.0   2392.0  1376.0   404.0   365.0   447.0   \n",
       "\n",
       "                         jul      aug      sep      oct      nov      dec  \\\n",
       "County         year                                                         \n",
       "Baringo County 2019   5692.0   5465.0  12063.0   7569.0   5410.0   5627.0   \n",
       "               2020   5809.0   6325.0   7247.0  11559.0  12099.0   5818.0   \n",
       "               2021  11718.0  16659.0  20697.0  14147.0  12321.0  11031.0   \n",
       "Bomet County   2019    702.0    665.0    517.0    539.0    506.0    577.0   \n",
       "               2020    527.0    641.0    575.0   1594.0   1443.0    571.0   \n",
       "\n",
       "                     MaxZScore  \n",
       "County         year             \n",
       "Baringo County 2019   1.513740  \n",
       "               2020   1.242131  \n",
       "               2021   1.408853  \n",
       "Bomet County   2019   1.051068  \n",
       "               2020   0.978511  "
      ]
     },
     "execution_count": 15,
     "metadata": {},
     "output_type": "execute_result"
    }
   ],
   "source": [
    "df1.head()"
   ]
  },
  {
   "cell_type": "markdown",
   "metadata": {},
   "source": [
    "### *Reset so that the count and the year are column names*"
   ]
  },
  {
   "cell_type": "code",
   "execution_count": 16,
   "metadata": {},
   "outputs": [],
   "source": [
    "df1=df1.reset_index()"
   ]
  },
  {
   "cell_type": "code",
   "execution_count": 17,
   "metadata": {},
   "outputs": [
    {
     "data": {
      "text/html": [
       "<div>\n",
       "<style scoped>\n",
       "    .dataframe tbody tr th:only-of-type {\n",
       "        vertical-align: middle;\n",
       "    }\n",
       "\n",
       "    .dataframe tbody tr th {\n",
       "        vertical-align: top;\n",
       "    }\n",
       "\n",
       "    .dataframe thead th {\n",
       "        text-align: right;\n",
       "    }\n",
       "</style>\n",
       "<table border=\"1\" class=\"dataframe\">\n",
       "  <thead>\n",
       "    <tr style=\"text-align: right;\">\n",
       "      <th></th>\n",
       "      <th>County</th>\n",
       "      <th>year</th>\n",
       "      <th>jan</th>\n",
       "      <th>feb</th>\n",
       "      <th>mar</th>\n",
       "      <th>apr</th>\n",
       "      <th>may</th>\n",
       "      <th>jun</th>\n",
       "      <th>jul</th>\n",
       "      <th>aug</th>\n",
       "      <th>sep</th>\n",
       "      <th>oct</th>\n",
       "      <th>nov</th>\n",
       "      <th>dec</th>\n",
       "      <th>MaxZScore</th>\n",
       "    </tr>\n",
       "  </thead>\n",
       "  <tbody>\n",
       "    <tr>\n",
       "      <th>0</th>\n",
       "      <td>Baringo County</td>\n",
       "      <td>2019</td>\n",
       "      <td>4832.0</td>\n",
       "      <td>3487.0</td>\n",
       "      <td>5297.0</td>\n",
       "      <td>4175.0</td>\n",
       "      <td>3923.0</td>\n",
       "      <td>4182.0</td>\n",
       "      <td>5692.0</td>\n",
       "      <td>5465.0</td>\n",
       "      <td>12063.0</td>\n",
       "      <td>7569.0</td>\n",
       "      <td>5410.0</td>\n",
       "      <td>5627.0</td>\n",
       "      <td>1.513740</td>\n",
       "    </tr>\n",
       "    <tr>\n",
       "      <th>1</th>\n",
       "      <td>Baringo County</td>\n",
       "      <td>2020</td>\n",
       "      <td>14060.0</td>\n",
       "      <td>13176.0</td>\n",
       "      <td>9760.0</td>\n",
       "      <td>4931.0</td>\n",
       "      <td>5441.0</td>\n",
       "      <td>6247.0</td>\n",
       "      <td>5809.0</td>\n",
       "      <td>6325.0</td>\n",
       "      <td>7247.0</td>\n",
       "      <td>11559.0</td>\n",
       "      <td>12099.0</td>\n",
       "      <td>5818.0</td>\n",
       "      <td>1.242131</td>\n",
       "    </tr>\n",
       "    <tr>\n",
       "      <th>2</th>\n",
       "      <td>Baringo County</td>\n",
       "      <td>2021</td>\n",
       "      <td>3961.0</td>\n",
       "      <td>8169.0</td>\n",
       "      <td>8882.0</td>\n",
       "      <td>6735.0</td>\n",
       "      <td>8688.0</td>\n",
       "      <td>9399.0</td>\n",
       "      <td>11718.0</td>\n",
       "      <td>16659.0</td>\n",
       "      <td>20697.0</td>\n",
       "      <td>14147.0</td>\n",
       "      <td>12321.0</td>\n",
       "      <td>11031.0</td>\n",
       "      <td>1.408853</td>\n",
       "    </tr>\n",
       "    <tr>\n",
       "      <th>3</th>\n",
       "      <td>Bomet County</td>\n",
       "      <td>2019</td>\n",
       "      <td>855.0</td>\n",
       "      <td>831.0</td>\n",
       "      <td>979.0</td>\n",
       "      <td>759.0</td>\n",
       "      <td>782.0</td>\n",
       "      <td>584.0</td>\n",
       "      <td>702.0</td>\n",
       "      <td>665.0</td>\n",
       "      <td>517.0</td>\n",
       "      <td>539.0</td>\n",
       "      <td>506.0</td>\n",
       "      <td>577.0</td>\n",
       "      <td>1.051068</td>\n",
       "    </tr>\n",
       "    <tr>\n",
       "      <th>4</th>\n",
       "      <td>Bomet County</td>\n",
       "      <td>2020</td>\n",
       "      <td>2254.0</td>\n",
       "      <td>2392.0</td>\n",
       "      <td>1376.0</td>\n",
       "      <td>404.0</td>\n",
       "      <td>365.0</td>\n",
       "      <td>447.0</td>\n",
       "      <td>527.0</td>\n",
       "      <td>641.0</td>\n",
       "      <td>575.0</td>\n",
       "      <td>1594.0</td>\n",
       "      <td>1443.0</td>\n",
       "      <td>571.0</td>\n",
       "      <td>0.978511</td>\n",
       "    </tr>\n",
       "    <tr>\n",
       "      <th>5</th>\n",
       "      <td>Bomet County</td>\n",
       "      <td>2021</td>\n",
       "      <td>1913.0</td>\n",
       "      <td>1525.0</td>\n",
       "      <td>2278.0</td>\n",
       "      <td>1368.0</td>\n",
       "      <td>1303.0</td>\n",
       "      <td>1952.0</td>\n",
       "      <td>1052.0</td>\n",
       "      <td>1235.0</td>\n",
       "      <td>1077.0</td>\n",
       "      <td>1303.0</td>\n",
       "      <td>1522.0</td>\n",
       "      <td>2202.0</td>\n",
       "      <td>1.007161</td>\n",
       "    </tr>\n",
       "    <tr>\n",
       "      <th>6</th>\n",
       "      <td>Bungoma County</td>\n",
       "      <td>2019</td>\n",
       "      <td>26851.0</td>\n",
       "      <td>29240.0</td>\n",
       "      <td>33792.0</td>\n",
       "      <td>41459.0</td>\n",
       "      <td>69337.0</td>\n",
       "      <td>74303.0</td>\n",
       "      <td>110212.0</td>\n",
       "      <td>70966.0</td>\n",
       "      <td>64043.0</td>\n",
       "      <td>63795.0</td>\n",
       "      <td>39232.0</td>\n",
       "      <td>40079.0</td>\n",
       "      <td>1.913933</td>\n",
       "    </tr>\n",
       "    <tr>\n",
       "      <th>7</th>\n",
       "      <td>Bungoma County</td>\n",
       "      <td>2020</td>\n",
       "      <td>74140.0</td>\n",
       "      <td>73431.0</td>\n",
       "      <td>75439.0</td>\n",
       "      <td>55647.0</td>\n",
       "      <td>52397.0</td>\n",
       "      <td>59070.0</td>\n",
       "      <td>61880.0</td>\n",
       "      <td>53175.0</td>\n",
       "      <td>51624.0</td>\n",
       "      <td>123405.0</td>\n",
       "      <td>121608.0</td>\n",
       "      <td>63230.0</td>\n",
       "      <td>1.628035</td>\n",
       "    </tr>\n",
       "    <tr>\n",
       "      <th>8</th>\n",
       "      <td>Bungoma County</td>\n",
       "      <td>2021</td>\n",
       "      <td>72893.0</td>\n",
       "      <td>119474.0</td>\n",
       "      <td>125210.0</td>\n",
       "      <td>104216.0</td>\n",
       "      <td>138143.0</td>\n",
       "      <td>170224.0</td>\n",
       "      <td>128135.0</td>\n",
       "      <td>155561.0</td>\n",
       "      <td>158577.0</td>\n",
       "      <td>108732.0</td>\n",
       "      <td>100108.0</td>\n",
       "      <td>119773.0</td>\n",
       "      <td>2.077816</td>\n",
       "    </tr>\n",
       "    <tr>\n",
       "      <th>9</th>\n",
       "      <td>Busia County</td>\n",
       "      <td>2019</td>\n",
       "      <td>71686.0</td>\n",
       "      <td>44770.0</td>\n",
       "      <td>67346.0</td>\n",
       "      <td>73580.0</td>\n",
       "      <td>100212.0</td>\n",
       "      <td>107645.0</td>\n",
       "      <td>131546.0</td>\n",
       "      <td>76358.0</td>\n",
       "      <td>59312.0</td>\n",
       "      <td>49682.0</td>\n",
       "      <td>31785.0</td>\n",
       "      <td>37185.0</td>\n",
       "      <td>1.887977</td>\n",
       "    </tr>\n",
       "  </tbody>\n",
       "</table>\n",
       "</div>"
      ],
      "text/plain": [
       "           County  year      jan       feb       mar       apr       may  \\\n",
       "0  Baringo County  2019   4832.0    3487.0    5297.0    4175.0    3923.0   \n",
       "1  Baringo County  2020  14060.0   13176.0    9760.0    4931.0    5441.0   \n",
       "2  Baringo County  2021   3961.0    8169.0    8882.0    6735.0    8688.0   \n",
       "3    Bomet County  2019    855.0     831.0     979.0     759.0     782.0   \n",
       "4    Bomet County  2020   2254.0    2392.0    1376.0     404.0     365.0   \n",
       "5    Bomet County  2021   1913.0    1525.0    2278.0    1368.0    1303.0   \n",
       "6  Bungoma County  2019  26851.0   29240.0   33792.0   41459.0   69337.0   \n",
       "7  Bungoma County  2020  74140.0   73431.0   75439.0   55647.0   52397.0   \n",
       "8  Bungoma County  2021  72893.0  119474.0  125210.0  104216.0  138143.0   \n",
       "9    Busia County  2019  71686.0   44770.0   67346.0   73580.0  100212.0   \n",
       "\n",
       "        jun       jul       aug       sep       oct       nov       dec  \\\n",
       "0    4182.0    5692.0    5465.0   12063.0    7569.0    5410.0    5627.0   \n",
       "1    6247.0    5809.0    6325.0    7247.0   11559.0   12099.0    5818.0   \n",
       "2    9399.0   11718.0   16659.0   20697.0   14147.0   12321.0   11031.0   \n",
       "3     584.0     702.0     665.0     517.0     539.0     506.0     577.0   \n",
       "4     447.0     527.0     641.0     575.0    1594.0    1443.0     571.0   \n",
       "5    1952.0    1052.0    1235.0    1077.0    1303.0    1522.0    2202.0   \n",
       "6   74303.0  110212.0   70966.0   64043.0   63795.0   39232.0   40079.0   \n",
       "7   59070.0   61880.0   53175.0   51624.0  123405.0  121608.0   63230.0   \n",
       "8  170224.0  128135.0  155561.0  158577.0  108732.0  100108.0  119773.0   \n",
       "9  107645.0  131546.0   76358.0   59312.0   49682.0   31785.0   37185.0   \n",
       "\n",
       "   MaxZScore  \n",
       "0   1.513740  \n",
       "1   1.242131  \n",
       "2   1.408853  \n",
       "3   1.051068  \n",
       "4   0.978511  \n",
       "5   1.007161  \n",
       "6   1.913933  \n",
       "7   1.628035  \n",
       "8   2.077816  \n",
       "9   1.887977  "
      ]
     },
     "execution_count": 17,
     "metadata": {},
     "output_type": "execute_result"
    }
   ],
   "source": [
    "df1.head(10)"
   ]
  },
  {
   "cell_type": "code",
   "execution_count": null,
   "metadata": {},
   "outputs": [],
   "source": []
  },
  {
   "cell_type": "markdown",
   "metadata": {},
   "source": [
    "### *common descriptive statistics per column*"
   ]
  },
  {
   "cell_type": "code",
   "execution_count": 18,
   "metadata": {},
   "outputs": [
    {
     "name": "stdout",
     "output_type": "stream",
     "text": [
      "135087.0\n",
      "63.0\n",
      "14032.900709219859\n"
     ]
    }
   ],
   "source": [
    "print(df1['jan'].max())\n",
    "print(df1['jan'].min())\n",
    "print(df1['jan'].mean())"
   ]
  },
  {
   "cell_type": "code",
   "execution_count": 19,
   "metadata": {},
   "outputs": [
    {
     "data": {
      "text/plain": [
       "count       141.000000\n",
       "mean      14032.900709\n",
       "std       23221.429033\n",
       "min          63.000000\n",
       "25%        1144.000000\n",
       "50%        3434.000000\n",
       "75%       13871.000000\n",
       "max      135087.000000\n",
       "Name: jan, dtype: float64"
      ]
     },
     "execution_count": 19,
     "metadata": {},
     "output_type": "execute_result"
    }
   ],
   "source": [
    "df1['jan'].describe()"
   ]
  },
  {
   "cell_type": "code",
   "execution_count": 20,
   "metadata": {},
   "outputs": [],
   "source": [
    "df2=df1[df1[\"County\"].isin(['Baringo County', 'Bomet County'])]\n",
    "#df2=df1[~df1[\"County\"].isin(['Baringo County', 'Bomet County'])]"
   ]
  },
  {
   "cell_type": "code",
   "execution_count": 21,
   "metadata": {},
   "outputs": [
    {
     "data": {
      "text/plain": [
       "(141, 15)"
      ]
     },
     "execution_count": 21,
     "metadata": {},
     "output_type": "execute_result"
    }
   ],
   "source": [
    "df1.shape"
   ]
  },
  {
   "cell_type": "markdown",
   "metadata": {},
   "source": [
    "### *Get data for Baringo County 2019*"
   ]
  },
  {
   "cell_type": "code",
   "execution_count": 22,
   "metadata": {},
   "outputs": [],
   "source": [
    "df2=df1[(df1[\"County\"].isin(['Baringo County'])) & (df1[\"year\"]==2019)]"
   ]
  },
  {
   "cell_type": "code",
   "execution_count": 23,
   "metadata": {},
   "outputs": [
    {
     "data": {
      "text/html": [
       "<div>\n",
       "<style scoped>\n",
       "    .dataframe tbody tr th:only-of-type {\n",
       "        vertical-align: middle;\n",
       "    }\n",
       "\n",
       "    .dataframe tbody tr th {\n",
       "        vertical-align: top;\n",
       "    }\n",
       "\n",
       "    .dataframe thead th {\n",
       "        text-align: right;\n",
       "    }\n",
       "</style>\n",
       "<table border=\"1\" class=\"dataframe\">\n",
       "  <thead>\n",
       "    <tr style=\"text-align: right;\">\n",
       "      <th></th>\n",
       "      <th>County</th>\n",
       "      <th>year</th>\n",
       "      <th>jan</th>\n",
       "      <th>feb</th>\n",
       "      <th>mar</th>\n",
       "      <th>apr</th>\n",
       "      <th>may</th>\n",
       "      <th>jun</th>\n",
       "      <th>jul</th>\n",
       "      <th>aug</th>\n",
       "      <th>sep</th>\n",
       "      <th>oct</th>\n",
       "      <th>nov</th>\n",
       "      <th>dec</th>\n",
       "      <th>MaxZScore</th>\n",
       "    </tr>\n",
       "  </thead>\n",
       "  <tbody>\n",
       "    <tr>\n",
       "      <th>0</th>\n",
       "      <td>Baringo County</td>\n",
       "      <td>2019</td>\n",
       "      <td>4832.0</td>\n",
       "      <td>3487.0</td>\n",
       "      <td>5297.0</td>\n",
       "      <td>4175.0</td>\n",
       "      <td>3923.0</td>\n",
       "      <td>4182.0</td>\n",
       "      <td>5692.0</td>\n",
       "      <td>5465.0</td>\n",
       "      <td>12063.0</td>\n",
       "      <td>7569.0</td>\n",
       "      <td>5410.0</td>\n",
       "      <td>5627.0</td>\n",
       "      <td>1.51374</td>\n",
       "    </tr>\n",
       "  </tbody>\n",
       "</table>\n",
       "</div>"
      ],
      "text/plain": [
       "           County  year     jan     feb     mar     apr     may     jun  \\\n",
       "0  Baringo County  2019  4832.0  3487.0  5297.0  4175.0  3923.0  4182.0   \n",
       "\n",
       "      jul     aug      sep     oct     nov     dec  MaxZScore  \n",
       "0  5692.0  5465.0  12063.0  7569.0  5410.0  5627.0    1.51374  "
      ]
     },
     "execution_count": 23,
     "metadata": {},
     "output_type": "execute_result"
    }
   ],
   "source": [
    "df2.head()"
   ]
  },
  {
   "cell_type": "code",
   "execution_count": 24,
   "metadata": {},
   "outputs": [],
   "source": [
    "y=list(df2.iloc[0])\n",
    "y=y[2:-1]"
   ]
  },
  {
   "cell_type": "code",
   "execution_count": 25,
   "metadata": {},
   "outputs": [
    {
     "data": {
      "text/plain": [
       "12"
      ]
     },
     "execution_count": 25,
     "metadata": {},
     "output_type": "execute_result"
    }
   ],
   "source": [
    "len(y)"
   ]
  },
  {
   "cell_type": "markdown",
   "metadata": {},
   "source": [
    "### *Plot to see if there is an meaningful trend from January to December*"
   ]
  },
  {
   "cell_type": "code",
   "execution_count": 26,
   "metadata": {},
   "outputs": [],
   "source": [
    "def plot(x,y, format=\"-r\", lineLabel=\"\", xLabel=\"\",yLabel=\"\", title=\"\"):\n",
    "     fig, ax=plt.subplots()\n",
    "     ax.plot(x,y, label=lineLabel)\n",
    "     ax.legend(loc=2)\n",
    "     ax.set_xlabel(xLabel)\n",
    "     ax.set_ylabel(yLabel)\n",
    "     ax.set_xticks(x)\n",
    "      \n",
    "    "
   ]
  },
  {
   "cell_type": "code",
   "execution_count": 27,
   "metadata": {},
   "outputs": [
    {
     "data": {
      "image/png": "[encoded data removed]",
      "text/plain": [
       "<Figure size 504x432 with 1 Axes>"
      ]
     },
     "metadata": {
      "needs_background": "light"
     },
     "output_type": "display_data"
    }
   ],
   "source": [
    "x=range(1,13)\n",
    "plt.rcParams['figure.figsize']=(7,6)\n",
    "plot(x,y,lineLabel=r\"Month vs Cases\", title=\"Baringo 2019\",  xLabel=\"month\",yLabel=\"value\")\n",
    "plt.show() \n",
    "plt.rcParams[\"figure.figsize\"] = plt.rcParamsDefault[\"figure.figsize\"]"
   ]
  },
  {
   "cell_type": "markdown",
   "metadata": {},
   "source": [
    "### *Plot for Baringo all the three years*"
   ]
  },
  {
   "cell_type": "code",
   "execution_count": 28,
   "metadata": {},
   "outputs": [],
   "source": [
    "years=list(df1[\"year\"])\n",
    "counties=list(df1[\"County\"])\n",
    "length=len(counties)\n",
    "dfMonths=[]\n",
    "dfYears=[]\n",
    "dfCounties=[]\n",
    "dfValues=[]\n",
    "for  i, name in enumerate(df1.columns[2:14]):\n",
    "    values=list(df1[name])\n",
    "    x=i+1;\n",
    "    month=[x]*length\n",
    "    dfCounties.extend(counties)\n",
    "    dfYears.extend(years)\n",
    "    dfMonths.extend(month)\n",
    "    dfValues.extend(values)\n",
    "df3=pd.DataFrame({\"county\":dfCounties, \"year\":dfYears, \"month\":dfMonths, \"value\":dfValues})\n",
    "df3=df3.sort_values([\"year\",\"month\"])    "
   ]
  },
  {
   "cell_type": "code",
   "execution_count": 29,
   "metadata": {},
   "outputs": [
    {
     "data": {
      "text/html": [
       "<div>\n",
       "<style scoped>\n",
       "    .dataframe tbody tr th:only-of-type {\n",
       "        vertical-align: middle;\n",
       "    }\n",
       "\n",
       "    .dataframe tbody tr th {\n",
       "        vertical-align: top;\n",
       "    }\n",
       "\n",
       "    .dataframe thead th {\n",
       "        text-align: right;\n",
       "    }\n",
       "</style>\n",
       "<table border=\"1\" class=\"dataframe\">\n",
       "  <thead>\n",
       "    <tr style=\"text-align: right;\">\n",
       "      <th></th>\n",
       "      <th>county</th>\n",
       "      <th>year</th>\n",
       "      <th>month</th>\n",
       "      <th>value</th>\n",
       "    </tr>\n",
       "  </thead>\n",
       "  <tbody>\n",
       "    <tr>\n",
       "      <th>0</th>\n",
       "      <td>Baringo County</td>\n",
       "      <td>2019</td>\n",
       "      <td>1</td>\n",
       "      <td>4832.0</td>\n",
       "    </tr>\n",
       "    <tr>\n",
       "      <th>141</th>\n",
       "      <td>Baringo County</td>\n",
       "      <td>2019</td>\n",
       "      <td>2</td>\n",
       "      <td>3487.0</td>\n",
       "    </tr>\n",
       "    <tr>\n",
       "      <th>282</th>\n",
       "      <td>Baringo County</td>\n",
       "      <td>2019</td>\n",
       "      <td>3</td>\n",
       "      <td>5297.0</td>\n",
       "    </tr>\n",
       "    <tr>\n",
       "      <th>423</th>\n",
       "      <td>Baringo County</td>\n",
       "      <td>2019</td>\n",
       "      <td>4</td>\n",
       "      <td>4175.0</td>\n",
       "    </tr>\n",
       "    <tr>\n",
       "      <th>564</th>\n",
       "      <td>Baringo County</td>\n",
       "      <td>2019</td>\n",
       "      <td>5</td>\n",
       "      <td>3923.0</td>\n",
       "    </tr>\n",
       "  </tbody>\n",
       "</table>\n",
       "</div>"
      ],
      "text/plain": [
       "             county  year  month   value\n",
       "0    Baringo County  2019      1  4832.0\n",
       "141  Baringo County  2019      2  3487.0\n",
       "282  Baringo County  2019      3  5297.0\n",
       "423  Baringo County  2019      4  4175.0\n",
       "564  Baringo County  2019      5  3923.0"
      ]
     },
     "execution_count": 29,
     "metadata": {},
     "output_type": "execute_result"
    }
   ],
   "source": [
    "#df4=df3[(df3[\"county\"]==\"Baringo County\") & (df3[\"year\"]==2019) ]\n",
    "df4=df3[(df3[\"county\"]==\"Baringo County\")  ]\n",
    "df4.head()"
   ]
  },
  {
   "cell_type": "code",
   "execution_count": 30,
   "metadata": {},
   "outputs": [
    {
     "data": {
      "text/plain": [
       "(36, 4)"
      ]
     },
     "execution_count": 30,
     "metadata": {},
     "output_type": "execute_result"
    }
   ],
   "source": [
    "df4.shape"
   ]
  },
  {
   "cell_type": "code",
   "execution_count": 31,
   "metadata": {},
   "outputs": [
    {
     "data": {
      "image/png": "[encoded data removed]",
      "text/plain": [
       "<Figure size 1080x432 with 1 Axes>"
      ]
     },
     "metadata": {
      "needs_background": "light"
     },
     "output_type": "display_data"
    }
   ],
   "source": [
    "x=range(1,37)\n",
    "plt.rcParams['figure.figsize']=(15,6)\n",
    "plot(x,df4[\"value\"],lineLabel=r\"Month vs Cases\", title=\"Baringo 2019-2021\",  xLabel=\"month\",yLabel=\"value\")\n",
    "plt.show() \n",
    "plt.rcParams[\"figure.figsize\"] = plt.rcParamsDefault[\"figure.figsize\"]"
   ]
  },
  {
   "cell_type": "markdown",
   "metadata": {},
   "source": [
    "## Scatter plots - To show correlation btn variables"
   ]
  },
  {
   "cell_type": "code",
   "execution_count": 32,
   "metadata": {},
   "outputs": [],
   "source": [
    "scatterDf=df1[['year','jan','feb','mar']]\n",
    "scatterDf=scatterDf[scatterDf['year']==2019]\n",
    "scatterDf=df1[['jan','feb','mar']]"
   ]
  },
  {
   "cell_type": "code",
   "execution_count": 33,
   "metadata": {},
   "outputs": [
    {
     "data": {
      "text/plain": [
       "array([[<AxesSubplot:xlabel='jan', ylabel='jan'>,\n",
       "        <AxesSubplot:xlabel='feb', ylabel='jan'>,\n",
       "        <AxesSubplot:xlabel='mar', ylabel='jan'>],\n",
       "       [<AxesSubplot:xlabel='jan', ylabel='feb'>,\n",
       "        <AxesSubplot:xlabel='feb', ylabel='feb'>,\n",
       "        <AxesSubplot:xlabel='mar', ylabel='feb'>],\n",
       "       [<AxesSubplot:xlabel='jan', ylabel='mar'>,\n",
       "        <AxesSubplot:xlabel='feb', ylabel='mar'>,\n",
       "        <AxesSubplot:xlabel='mar', ylabel='mar'>]], dtype=object)"
      ]
     },
     "execution_count": 33,
     "metadata": {},
     "output_type": "execute_result"
    },
    {
     "data": {
      "image/png": "[encoded data removed]",
      "text/plain": [
       "<Figure size 720x432 with 9 Axes>"
      ]
     },
     "metadata": {
      "needs_background": "light"
     },
     "output_type": "display_data"
    }
   ],
   "source": [
    "pd.plotting.scatter_matrix(scatterDf, figsize=(10,6))"
   ]
  },
  {
   "cell_type": "code",
   "execution_count": 34,
   "metadata": {},
   "outputs": [],
   "source": [
    "dfCountySum=df3.groupby(['county']).aggregate({'value':sum})"
   ]
  },
  {
   "cell_type": "code",
   "execution_count": 35,
   "metadata": {},
   "outputs": [
    {
     "data": {
      "text/html": [
       "<div>\n",
       "<style scoped>\n",
       "    .dataframe tbody tr th:only-of-type {\n",
       "        vertical-align: middle;\n",
       "    }\n",
       "\n",
       "    .dataframe tbody tr th {\n",
       "        vertical-align: top;\n",
       "    }\n",
       "\n",
       "    .dataframe thead th {\n",
       "        text-align: right;\n",
       "    }\n",
       "</style>\n",
       "<table border=\"1\" class=\"dataframe\">\n",
       "  <thead>\n",
       "    <tr style=\"text-align: right;\">\n",
       "      <th></th>\n",
       "      <th>value</th>\n",
       "    </tr>\n",
       "    <tr>\n",
       "      <th>county</th>\n",
       "      <th></th>\n",
       "    </tr>\n",
       "  </thead>\n",
       "  <tbody>\n",
       "    <tr>\n",
       "      <th>Baringo County</th>\n",
       "      <td>302601.0</td>\n",
       "    </tr>\n",
       "    <tr>\n",
       "      <th>Bomet County</th>\n",
       "      <td>39615.0</td>\n",
       "    </tr>\n",
       "    <tr>\n",
       "      <th>Bungoma County</th>\n",
       "      <td>3029401.0</td>\n",
       "    </tr>\n",
       "    <tr>\n",
       "      <th>Busia County</th>\n",
       "      <td>3070050.0</td>\n",
       "    </tr>\n",
       "    <tr>\n",
       "      <th>Elgeyo Marakwet County</th>\n",
       "      <td>109281.0</td>\n",
       "    </tr>\n",
       "  </tbody>\n",
       "</table>\n",
       "</div>"
      ],
      "text/plain": [
       "                            value\n",
       "county                           \n",
       "Baringo County           302601.0\n",
       "Bomet County              39615.0\n",
       "Bungoma County          3029401.0\n",
       "Busia County            3070050.0\n",
       "Elgeyo Marakwet County   109281.0"
      ]
     },
     "execution_count": 35,
     "metadata": {},
     "output_type": "execute_result"
    }
   ],
   "source": [
    "dfCountySum.head()"
   ]
  },
  {
   "cell_type": "code",
   "execution_count": 36,
   "metadata": {},
   "outputs": [
    {
     "data": {
      "text/plain": [
       "<AxesSubplot:xlabel='county'>"
      ]
     },
     "execution_count": 36,
     "metadata": {},
     "output_type": "execute_result"
    },
    {
     "data": {
      "image/png": "[encoded data removed]",
      "text/plain": [
       "<Figure size 1080x432 with 1 Axes>"
      ]
     },
     "metadata": {
      "needs_background": "light"
     },
     "output_type": "display_data"
    }
   ],
   "source": [
    "dfCountySum.plot(kind=\"bar\", figsize=(15,6))"
   ]
  },
  {
   "cell_type": "markdown",
   "metadata": {},
   "source": [
    "## We can save the data in df3 to use later"
   ]
  },
  {
   "cell_type": "code",
   "execution_count": 37,
   "metadata": {},
   "outputs": [
    {
     "ename": "OSError",
     "evalue": "Cannot save file into a non-existent directory: '/home/dom/Data_Science/py/data/saves'",
     "output_type": "error",
     "traceback": [
      "\u001b[0;31m---------------------------------------------------------------------------\u001b[0m",
      "\u001b[0;31mOSError\u001b[0m                                   Traceback (most recent call last)",
      "\u001b[1;32m/home/dom/Data_Science/py/day 1/data/explorationAndVisualization.ipynb Cell 57'\u001b[0m in \u001b[0;36m<cell line: 1>\u001b[0;34m()\u001b[0m\n\u001b[0;32m----> <a href='vscode-notebook-cell:/home/dom/Data_Science/py/day%201/data/explorationAndVisualization.ipynb#ch0000056?line=0'>1</a>\u001b[0m df3\u001b[39m.\u001b[39;49mto_csv(\u001b[39m\"\u001b[39;49m\u001b[39m/home/dom/Data_Science/py/data/saves/malaria_cases.csv\u001b[39;49m\u001b[39m\"\u001b[39;49m, index\u001b[39m=\u001b[39;49m\u001b[39mFalse\u001b[39;49;00m)\n",
      "File \u001b[0;32m~/.local/lib/python3.10/site-packages/pandas/core/generic.py:3563\u001b[0m, in \u001b[0;36mNDFrame.to_csv\u001b[0;34m(self, path_or_buf, sep, na_rep, float_format, columns, header, index, index_label, mode, encoding, compression, quoting, quotechar, line_terminator, chunksize, date_format, doublequote, escapechar, decimal, errors, storage_options)\u001b[0m\n\u001b[1;32m   <a href='file:///home/dom/.local/lib/python3.10/site-packages/pandas/core/generic.py?line=3551'>3552</a>\u001b[0m df \u001b[39m=\u001b[39m \u001b[39mself\u001b[39m \u001b[39mif\u001b[39;00m \u001b[39misinstance\u001b[39m(\u001b[39mself\u001b[39m, ABCDataFrame) \u001b[39melse\u001b[39;00m \u001b[39mself\u001b[39m\u001b[39m.\u001b[39mto_frame()\n\u001b[1;32m   <a href='file:///home/dom/.local/lib/python3.10/site-packages/pandas/core/generic.py?line=3553'>3554</a>\u001b[0m formatter \u001b[39m=\u001b[39m DataFrameFormatter(\n\u001b[1;32m   <a href='file:///home/dom/.local/lib/python3.10/site-packages/pandas/core/generic.py?line=3554'>3555</a>\u001b[0m     frame\u001b[39m=\u001b[39mdf,\n\u001b[1;32m   <a href='file:///home/dom/.local/lib/python3.10/site-packages/pandas/core/generic.py?line=3555'>3556</a>\u001b[0m     header\u001b[39m=\u001b[39mheader,\n\u001b[0;32m   (...)\u001b[0m\n\u001b[1;32m   <a href='file:///home/dom/.local/lib/python3.10/site-packages/pandas/core/generic.py?line=3559'>3560</a>\u001b[0m     decimal\u001b[39m=\u001b[39mdecimal,\n\u001b[1;32m   <a href='file:///home/dom/.local/lib/python3.10/site-packages/pandas/core/generic.py?line=3560'>3561</a>\u001b[0m )\n\u001b[0;32m-> <a href='file:///home/dom/.local/lib/python3.10/site-packages/pandas/core/generic.py?line=3562'>3563</a>\u001b[0m \u001b[39mreturn\u001b[39;00m DataFrameRenderer(formatter)\u001b[39m.\u001b[39;49mto_csv(\n\u001b[1;32m   <a href='file:///home/dom/.local/lib/python3.10/site-packages/pandas/core/generic.py?line=3563'>3564</a>\u001b[0m     path_or_buf,\n\u001b[1;32m   <a href='file:///home/dom/.local/lib/python3.10/site-packages/pandas/core/generic.py?line=3564'>3565</a>\u001b[0m     line_terminator\u001b[39m=\u001b[39;49mline_terminator,\n\u001b[1;32m   <a href='file:///home/dom/.local/lib/python3.10/site-packages/pandas/core/generic.py?line=3565'>3566</a>\u001b[0m     sep\u001b[39m=\u001b[39;49msep,\n\u001b[1;32m   <a href='file:///home/dom/.local/lib/python3.10/site-packages/pandas/core/generic.py?line=3566'>3567</a>\u001b[0m     encoding\u001b[39m=\u001b[39;49mencoding,\n\u001b[1;32m   <a href='file:///home/dom/.local/lib/python3.10/site-packages/pandas/core/generic.py?line=3567'>3568</a>\u001b[0m     errors\u001b[39m=\u001b[39;49merrors,\n\u001b[1;32m   <a href='file:///home/dom/.local/lib/python3.10/site-packages/pandas/core/generic.py?line=3568'>3569</a>\u001b[0m     compression\u001b[39m=\u001b[39;49mcompression,\n\u001b[1;32m   <a href='file:///home/dom/.local/lib/python3.10/site-packages/pandas/core/generic.py?line=3569'>3570</a>\u001b[0m     quoting\u001b[39m=\u001b[39;49mquoting,\n\u001b[1;32m   <a href='file:///home/dom/.local/lib/python3.10/site-packages/pandas/core/generic.py?line=3570'>3571</a>\u001b[0m     columns\u001b[39m=\u001b[39;49mcolumns,\n\u001b[1;32m   <a href='file:///home/dom/.local/lib/python3.10/site-packages/pandas/core/generic.py?line=3571'>3572</a>\u001b[0m     index_label\u001b[39m=\u001b[39;49mindex_label,\n\u001b[1;32m   <a href='file:///home/dom/.local/lib/python3.10/site-packages/pandas/core/generic.py?line=3572'>3573</a>\u001b[0m     mode\u001b[39m=\u001b[39;49mmode,\n\u001b[1;32m   <a href='file:///home/dom/.local/lib/python3.10/site-packages/pandas/core/generic.py?line=3573'>3574</a>\u001b[0m     chunksize\u001b[39m=\u001b[39;49mchunksize,\n\u001b[1;32m   <a href='file:///home/dom/.local/lib/python3.10/site-packages/pandas/core/generic.py?line=3574'>3575</a>\u001b[0m     quotechar\u001b[39m=\u001b[39;49mquotechar,\n\u001b[1;32m   <a href='file:///home/dom/.local/lib/python3.10/site-packages/pandas/core/generic.py?line=3575'>3576</a>\u001b[0m     date_format\u001b[39m=\u001b[39;49mdate_format,\n\u001b[1;32m   <a href='file:///home/dom/.local/lib/python3.10/site-packages/pandas/core/generic.py?line=3576'>3577</a>\u001b[0m     doublequote\u001b[39m=\u001b[39;49mdoublequote,\n\u001b[1;32m   <a href='file:///home/dom/.local/lib/python3.10/site-packages/pandas/core/generic.py?line=3577'>3578</a>\u001b[0m     escapechar\u001b[39m=\u001b[39;49mescapechar,\n\u001b[1;32m   <a href='file:///home/dom/.local/lib/python3.10/site-packages/pandas/core/generic.py?line=3578'>3579</a>\u001b[0m     storage_options\u001b[39m=\u001b[39;49mstorage_options,\n\u001b[1;32m   <a href='file:///home/dom/.local/lib/python3.10/site-packages/pandas/core/generic.py?line=3579'>3580</a>\u001b[0m )\n",
      "File \u001b[0;32m~/.local/lib/python3.10/site-packages/pandas/io/formats/format.py:1180\u001b[0m, in \u001b[0;36mDataFrameRenderer.to_csv\u001b[0;34m(self, path_or_buf, encoding, sep, columns, index_label, mode, compression, quoting, quotechar, line_terminator, chunksize, date_format, doublequote, escapechar, errors, storage_options)\u001b[0m\n\u001b[1;32m   <a href='file:///home/dom/.local/lib/python3.10/site-packages/pandas/io/formats/format.py?line=1158'>1159</a>\u001b[0m     created_buffer \u001b[39m=\u001b[39m \u001b[39mFalse\u001b[39;00m\n\u001b[1;32m   <a href='file:///home/dom/.local/lib/python3.10/site-packages/pandas/io/formats/format.py?line=1160'>1161</a>\u001b[0m csv_formatter \u001b[39m=\u001b[39m CSVFormatter(\n\u001b[1;32m   <a href='file:///home/dom/.local/lib/python3.10/site-packages/pandas/io/formats/format.py?line=1161'>1162</a>\u001b[0m     path_or_buf\u001b[39m=\u001b[39mpath_or_buf,\n\u001b[1;32m   <a href='file:///home/dom/.local/lib/python3.10/site-packages/pandas/io/formats/format.py?line=1162'>1163</a>\u001b[0m     line_terminator\u001b[39m=\u001b[39mline_terminator,\n\u001b[0;32m   (...)\u001b[0m\n\u001b[1;32m   <a href='file:///home/dom/.local/lib/python3.10/site-packages/pandas/io/formats/format.py?line=1177'>1178</a>\u001b[0m     formatter\u001b[39m=\u001b[39m\u001b[39mself\u001b[39m\u001b[39m.\u001b[39mfmt,\n\u001b[1;32m   <a href='file:///home/dom/.local/lib/python3.10/site-packages/pandas/io/formats/format.py?line=1178'>1179</a>\u001b[0m )\n\u001b[0;32m-> <a href='file:///home/dom/.local/lib/python3.10/site-packages/pandas/io/formats/format.py?line=1179'>1180</a>\u001b[0m csv_formatter\u001b[39m.\u001b[39;49msave()\n\u001b[1;32m   <a href='file:///home/dom/.local/lib/python3.10/site-packages/pandas/io/formats/format.py?line=1181'>1182</a>\u001b[0m \u001b[39mif\u001b[39;00m created_buffer:\n\u001b[1;32m   <a href='file:///home/dom/.local/lib/python3.10/site-packages/pandas/io/formats/format.py?line=1182'>1183</a>\u001b[0m     \u001b[39massert\u001b[39;00m \u001b[39misinstance\u001b[39m(path_or_buf, StringIO)\n",
      "File \u001b[0;32m~/.local/lib/python3.10/site-packages/pandas/io/formats/csvs.py:241\u001b[0m, in \u001b[0;36mCSVFormatter.save\u001b[0;34m(self)\u001b[0m\n\u001b[1;32m    <a href='file:///home/dom/.local/lib/python3.10/site-packages/pandas/io/formats/csvs.py?line=236'>237</a>\u001b[0m \u001b[39m\"\"\"\u001b[39;00m\n\u001b[1;32m    <a href='file:///home/dom/.local/lib/python3.10/site-packages/pandas/io/formats/csvs.py?line=237'>238</a>\u001b[0m \u001b[39mCreate the writer & save.\u001b[39;00m\n\u001b[1;32m    <a href='file:///home/dom/.local/lib/python3.10/site-packages/pandas/io/formats/csvs.py?line=238'>239</a>\u001b[0m \u001b[39m\"\"\"\u001b[39;00m\n\u001b[1;32m    <a href='file:///home/dom/.local/lib/python3.10/site-packages/pandas/io/formats/csvs.py?line=239'>240</a>\u001b[0m \u001b[39m# apply compression and byte/text conversion\u001b[39;00m\n\u001b[0;32m--> <a href='file:///home/dom/.local/lib/python3.10/site-packages/pandas/io/formats/csvs.py?line=240'>241</a>\u001b[0m \u001b[39mwith\u001b[39;00m get_handle(\n\u001b[1;32m    <a href='file:///home/dom/.local/lib/python3.10/site-packages/pandas/io/formats/csvs.py?line=241'>242</a>\u001b[0m     \u001b[39mself\u001b[39;49m\u001b[39m.\u001b[39;49mfilepath_or_buffer,\n\u001b[1;32m    <a href='file:///home/dom/.local/lib/python3.10/site-packages/pandas/io/formats/csvs.py?line=242'>243</a>\u001b[0m     \u001b[39mself\u001b[39;49m\u001b[39m.\u001b[39;49mmode,\n\u001b[1;32m    <a href='file:///home/dom/.local/lib/python3.10/site-packages/pandas/io/formats/csvs.py?line=243'>244</a>\u001b[0m     encoding\u001b[39m=\u001b[39;49m\u001b[39mself\u001b[39;49m\u001b[39m.\u001b[39;49mencoding,\n\u001b[1;32m    <a href='file:///home/dom/.local/lib/python3.10/site-packages/pandas/io/formats/csvs.py?line=244'>245</a>\u001b[0m     errors\u001b[39m=\u001b[39;49m\u001b[39mself\u001b[39;49m\u001b[39m.\u001b[39;49merrors,\n\u001b[1;32m    <a href='file:///home/dom/.local/lib/python3.10/site-packages/pandas/io/formats/csvs.py?line=245'>246</a>\u001b[0m     compression\u001b[39m=\u001b[39;49m\u001b[39mself\u001b[39;49m\u001b[39m.\u001b[39;49mcompression,\n\u001b[1;32m    <a href='file:///home/dom/.local/lib/python3.10/site-packages/pandas/io/formats/csvs.py?line=246'>247</a>\u001b[0m     storage_options\u001b[39m=\u001b[39;49m\u001b[39mself\u001b[39;49m\u001b[39m.\u001b[39;49mstorage_options,\n\u001b[1;32m    <a href='file:///home/dom/.local/lib/python3.10/site-packages/pandas/io/formats/csvs.py?line=247'>248</a>\u001b[0m ) \u001b[39mas\u001b[39;00m handles:\n\u001b[1;32m    <a href='file:///home/dom/.local/lib/python3.10/site-packages/pandas/io/formats/csvs.py?line=248'>249</a>\u001b[0m \n\u001b[1;32m    <a href='file:///home/dom/.local/lib/python3.10/site-packages/pandas/io/formats/csvs.py?line=249'>250</a>\u001b[0m     \u001b[39m# Note: self.encoding is irrelevant here\u001b[39;00m\n\u001b[1;32m    <a href='file:///home/dom/.local/lib/python3.10/site-packages/pandas/io/formats/csvs.py?line=250'>251</a>\u001b[0m     \u001b[39mself\u001b[39m\u001b[39m.\u001b[39mwriter \u001b[39m=\u001b[39m csvlib\u001b[39m.\u001b[39mwriter(\n\u001b[1;32m    <a href='file:///home/dom/.local/lib/python3.10/site-packages/pandas/io/formats/csvs.py?line=251'>252</a>\u001b[0m         handles\u001b[39m.\u001b[39mhandle,\n\u001b[1;32m    <a href='file:///home/dom/.local/lib/python3.10/site-packages/pandas/io/formats/csvs.py?line=252'>253</a>\u001b[0m         lineterminator\u001b[39m=\u001b[39m\u001b[39mself\u001b[39m\u001b[39m.\u001b[39mline_terminator,\n\u001b[0;32m   (...)\u001b[0m\n\u001b[1;32m    <a href='file:///home/dom/.local/lib/python3.10/site-packages/pandas/io/formats/csvs.py?line=257'>258</a>\u001b[0m         quotechar\u001b[39m=\u001b[39m\u001b[39mself\u001b[39m\u001b[39m.\u001b[39mquotechar,\n\u001b[1;32m    <a href='file:///home/dom/.local/lib/python3.10/site-packages/pandas/io/formats/csvs.py?line=258'>259</a>\u001b[0m     )\n\u001b[1;32m    <a href='file:///home/dom/.local/lib/python3.10/site-packages/pandas/io/formats/csvs.py?line=260'>261</a>\u001b[0m     \u001b[39mself\u001b[39m\u001b[39m.\u001b[39m_save()\n",
      "File \u001b[0;32m~/.local/lib/python3.10/site-packages/pandas/io/common.py:697\u001b[0m, in \u001b[0;36mget_handle\u001b[0;34m(path_or_buf, mode, encoding, compression, memory_map, is_text, errors, storage_options)\u001b[0m\n\u001b[1;32m    <a href='file:///home/dom/.local/lib/python3.10/site-packages/pandas/io/common.py?line=694'>695</a>\u001b[0m \u001b[39m# Only for write methods\u001b[39;00m\n\u001b[1;32m    <a href='file:///home/dom/.local/lib/python3.10/site-packages/pandas/io/common.py?line=695'>696</a>\u001b[0m \u001b[39mif\u001b[39;00m \u001b[39m\"\u001b[39m\u001b[39mr\u001b[39m\u001b[39m\"\u001b[39m \u001b[39mnot\u001b[39;00m \u001b[39min\u001b[39;00m mode \u001b[39mand\u001b[39;00m is_path:\n\u001b[0;32m--> <a href='file:///home/dom/.local/lib/python3.10/site-packages/pandas/io/common.py?line=696'>697</a>\u001b[0m     check_parent_directory(\u001b[39mstr\u001b[39;49m(handle))\n\u001b[1;32m    <a href='file:///home/dom/.local/lib/python3.10/site-packages/pandas/io/common.py?line=698'>699</a>\u001b[0m \u001b[39mif\u001b[39;00m compression:\n\u001b[1;32m    <a href='file:///home/dom/.local/lib/python3.10/site-packages/pandas/io/common.py?line=699'>700</a>\u001b[0m     \u001b[39mif\u001b[39;00m compression \u001b[39m!=\u001b[39m \u001b[39m\"\u001b[39m\u001b[39mzstd\u001b[39m\u001b[39m\"\u001b[39m:\n\u001b[1;32m    <a href='file:///home/dom/.local/lib/python3.10/site-packages/pandas/io/common.py?line=700'>701</a>\u001b[0m         \u001b[39m# compression libraries do not like an explicit text-mode\u001b[39;00m\n",
      "File \u001b[0;32m~/.local/lib/python3.10/site-packages/pandas/io/common.py:571\u001b[0m, in \u001b[0;36mcheck_parent_directory\u001b[0;34m(path)\u001b[0m\n\u001b[1;32m    <a href='file:///home/dom/.local/lib/python3.10/site-packages/pandas/io/common.py?line=568'>569</a>\u001b[0m parent \u001b[39m=\u001b[39m Path(path)\u001b[39m.\u001b[39mparent\n\u001b[1;32m    <a href='file:///home/dom/.local/lib/python3.10/site-packages/pandas/io/common.py?line=569'>570</a>\u001b[0m \u001b[39mif\u001b[39;00m \u001b[39mnot\u001b[39;00m parent\u001b[39m.\u001b[39mis_dir():\n\u001b[0;32m--> <a href='file:///home/dom/.local/lib/python3.10/site-packages/pandas/io/common.py?line=570'>571</a>\u001b[0m     \u001b[39mraise\u001b[39;00m \u001b[39mOSError\u001b[39;00m(\u001b[39mfr\u001b[39m\u001b[39m\"\u001b[39m\u001b[39mCannot save file into a non-existent directory: \u001b[39m\u001b[39m'\u001b[39m\u001b[39m{\u001b[39;00mparent\u001b[39m}\u001b[39;00m\u001b[39m'\u001b[39m\u001b[39m\"\u001b[39m)\n",
      "\u001b[0;31mOSError\u001b[0m: Cannot save file into a non-existent directory: '/home/dom/Data_Science/py/data/saves'"
     ]
    }
   ],
   "source": [
    "df3.to_csv(\"/home/dom/Data_Science/py/data/saves/malaria_cases.csv\", index=False)"
   ]
  },
  {
   "cell_type": "code",
   "execution_count": null,
   "metadata": {},
   "outputs": [],
   "source": []
  }
 ],
 "metadata": {
  "kernelspec": {
   "display_name": "Python 3",
   "language": "python",
   "name": "python3"
  },
  "language_info": {
   "codemirror_mode": {
    "name": "ipython",
    "version": 3
   },
   "file_extension": ".py",
   "mimetype": "text/x-python",
   "name": "python",
   "nbconvert_exporter": "python",
   "pygments_lexer": "ipython3",
   "version": "3.10.2"
  }
 },
 "nbformat": 4,
 "nbformat_minor": 2
}
